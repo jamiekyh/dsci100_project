{
 "cells": [
  {
   "cell_type": "markdown",
   "id": "e4f3ac17-913c-4783-a994-5d80efb2a85a",
   "metadata": {},
   "source": [
    "## DSCI100 GROUP PROJECT\n",
    "\n",
    "##### Group Members: Aasha (**add student#**), Jamie (70834411), Nathelie (**add student#**), April (**add student#**)\n",
    "##### Group Number: 007-39"
   ]
  },
  {
   "cell_type": "code",
   "execution_count": 1,
   "id": "01157591-a6e2-4eee-9f9f-83c2fb22d5d0",
   "metadata": {},
   "outputs": [
    {
     "name": "stderr",
     "output_type": "stream",
     "text": [
      "── \u001b[1mAttaching core tidyverse packages\u001b[22m ──────────────────────── tidyverse 2.0.0 ──\n",
      "\u001b[32m✔\u001b[39m \u001b[34mdplyr    \u001b[39m 1.1.4     \u001b[32m✔\u001b[39m \u001b[34mreadr    \u001b[39m 2.1.5\n",
      "\u001b[32m✔\u001b[39m \u001b[34mforcats  \u001b[39m 1.0.0     \u001b[32m✔\u001b[39m \u001b[34mstringr  \u001b[39m 1.5.1\n",
      "\u001b[32m✔\u001b[39m \u001b[34mggplot2  \u001b[39m 3.5.1     \u001b[32m✔\u001b[39m \u001b[34mtibble   \u001b[39m 3.2.1\n",
      "\u001b[32m✔\u001b[39m \u001b[34mlubridate\u001b[39m 1.9.3     \u001b[32m✔\u001b[39m \u001b[34mtidyr    \u001b[39m 1.3.1\n",
      "\u001b[32m✔\u001b[39m \u001b[34mpurrr    \u001b[39m 1.0.2     \n",
      "── \u001b[1mConflicts\u001b[22m ────────────────────────────────────────── tidyverse_conflicts() ──\n",
      "\u001b[31m✖\u001b[39m \u001b[34mdplyr\u001b[39m::\u001b[32mfilter()\u001b[39m masks \u001b[34mstats\u001b[39m::filter()\n",
      "\u001b[31m✖\u001b[39m \u001b[34mdplyr\u001b[39m::\u001b[32mlag()\u001b[39m    masks \u001b[34mstats\u001b[39m::lag()\n",
      "\u001b[36mℹ\u001b[39m Use the conflicted package (\u001b[3m\u001b[34m<http://conflicted.r-lib.org/>\u001b[39m\u001b[23m) to force all conflicts to become errors\n",
      "── \u001b[1mAttaching packages\u001b[22m ────────────────────────────────────── tidymodels 1.1.1 ──\n",
      "\n",
      "\u001b[32m✔\u001b[39m \u001b[34mbroom       \u001b[39m 1.0.6     \u001b[32m✔\u001b[39m \u001b[34mrsample     \u001b[39m 1.2.1\n",
      "\u001b[32m✔\u001b[39m \u001b[34mdials       \u001b[39m 1.3.0     \u001b[32m✔\u001b[39m \u001b[34mtune        \u001b[39m 1.1.2\n",
      "\u001b[32m✔\u001b[39m \u001b[34minfer       \u001b[39m 1.0.7     \u001b[32m✔\u001b[39m \u001b[34mworkflows   \u001b[39m 1.1.4\n",
      "\u001b[32m✔\u001b[39m \u001b[34mmodeldata   \u001b[39m 1.4.0     \u001b[32m✔\u001b[39m \u001b[34mworkflowsets\u001b[39m 1.0.1\n",
      "\u001b[32m✔\u001b[39m \u001b[34mparsnip     \u001b[39m 1.2.1     \u001b[32m✔\u001b[39m \u001b[34myardstick   \u001b[39m 1.3.1\n",
      "\u001b[32m✔\u001b[39m \u001b[34mrecipes     \u001b[39m 1.1.0     \n",
      "\n",
      "── \u001b[1mConflicts\u001b[22m ───────────────────────────────────────── tidymodels_conflicts() ──\n",
      "\u001b[31m✖\u001b[39m \u001b[34mscales\u001b[39m::\u001b[32mdiscard()\u001b[39m masks \u001b[34mpurrr\u001b[39m::discard()\n",
      "\u001b[31m✖\u001b[39m \u001b[34mdplyr\u001b[39m::\u001b[32mfilter()\u001b[39m   masks \u001b[34mstats\u001b[39m::filter()\n",
      "\u001b[31m✖\u001b[39m \u001b[34mrecipes\u001b[39m::\u001b[32mfixed()\u001b[39m  masks \u001b[34mstringr\u001b[39m::fixed()\n",
      "\u001b[31m✖\u001b[39m \u001b[34mdplyr\u001b[39m::\u001b[32mlag()\u001b[39m      masks \u001b[34mstats\u001b[39m::lag()\n",
      "\u001b[31m✖\u001b[39m \u001b[34myardstick\u001b[39m::\u001b[32mspec()\u001b[39m masks \u001b[34mreadr\u001b[39m::spec()\n",
      "\u001b[31m✖\u001b[39m \u001b[34mrecipes\u001b[39m::\u001b[32mstep()\u001b[39m   masks \u001b[34mstats\u001b[39m::step()\n",
      "\u001b[34m•\u001b[39m Search for functions across packages at \u001b[32mhttps://www.tidymodels.org/find/\u001b[39m\n",
      "\n"
     ]
    }
   ],
   "source": [
    "#loading packages\n",
    "library(tidyverse)\n",
    "library(repr)\n",
    "library(tidymodels)\n",
    "library(dplyr)"
   ]
  },
  {
   "cell_type": "markdown",
   "id": "1318fbdd-6fbf-4c07-b01d-720c0db4d141",
   "metadata": {},
   "source": [
    "## Introduction\n",
    "#### Background Information:\n",
    "This project analyzes real-world data collected from a Minecraft research server (plaicraft.ai), run by the PLAI group of the UBC Computer Science department.             \n",
    "The goal is to help researchers find out which \"kinds\" of players are most likely to contribute a large amount of data, so that they can maximize the amount of data collected with their limited resources.              \n",
    "Specifically, the project will focus on predicting how much playing time a player contributes to the research based on their age and experience. The longer the play time, the more data the participant contributes. \n",
    "\n",
    "#### Research Question: Can player age and player experience predict the duration of playing?\n",
    "\n",
    "#### Dataset Description\n",
    "Two datasets were provided for this project, namely \"players.csv\" (assigned to `players`), and \"sessions.csv\" (assigned to `sessions`).           \n",
    "`players` stores information about each research participant, while `sessions` stores information about each unique playing session.         "
   ]
  },
  {
   "cell_type": "code",
   "execution_count": null,
   "id": "d04b39ef-5783-4732-8836-ff65b678b50b",
   "metadata": {
    "scrolled": true
   },
   "outputs": [],
   "source": [
    "#initial data loading\n",
    "players <- read_csv(\"https://raw.githubusercontent.com/jamiekyh/dsci100_project/refs/heads/main/players.csv\")\n",
    "head(players)\n",
    "\n",
    "sessions <- read_csv(\"https://raw.githubusercontent.com/jamiekyh/dsci100_project/refs/heads/main/sessions.csv\")\n",
    "head(sessions)"
   ]
  },
  {
   "cell_type": "markdown",
   "id": "9cb648c7-f5d4-443f-8309-c0baf72eba7c",
   "metadata": {},
   "source": [
    "#### Dataset Description: `players`\n",
    "Now that we have loaded the entire comma-separated values file, we need to narrow the data down to what we need to answer the question.        \n",
    "To answer our question, we will be using the `players` dataset to obtain data on players' age, experience and hours played.             \n",
    "\n",
    "##### Summary\n",
    "Let's take the summary and break down what is in the dataset:\n"
   ]
  },
  {
   "cell_type": "code",
   "execution_count": null,
   "id": "998707b3-c301-42bd-a485-e006ed2b462c",
   "metadata": {},
   "outputs": [],
   "source": [
    "summary(players)"
   ]
  },
  {
   "cell_type": "markdown",
   "id": "8fd90f16-dddc-4f5e-9dee-c011243e4d94",
   "metadata": {},
   "source": [
    "To answer our question we will be using the dataset `players` to gain data on each players age, experience and hours played. Lets take the summary and breakdown whats in the dataset:"
   ]
  },
  {
   "cell_type": "markdown",
   "id": "8c5b107d-5162-41eb-ae66-a5790ccf2ae8",
   "metadata": {},
   "source": [
    "Tabulated summary of `players`:\n",
    "| Variable         | Type   | Description |number of rows|\n",
    "|-----------------|--------|-------------|--------|\n",
    "| experience      | character | Player's self-reported experience level (e.g., Beginner, Regular, Veteran) | 196 |\n",
    "| subscribe | logical | Whether the player is subscribed to a game-related newsletter | 196 |\n",
    "| hashedEmail       | character | Unique identifier for each player | 196 |\n",
    "| played_hours    | double | Total duration the player spent in the game | 196 |\n",
    "| name    | character | Name of player | 196 |\n",
    "| gender          | character | Player's gender (e.g., Male, Female, Other) | 196 |\n",
    "| Age            | double | Player’s age in years| 196 |\n",
    "\n",
    "The table above gives us a clear and legible summary of the dataset.                     \n",
    "Each variable is named, along with the data type, description of the variable, and the number of entries for each variable.            "
   ]
  },
  {
   "cell_type": "markdown",
   "id": "c6a90d4c-a374-44e0-940e-0d78687d790a",
   "metadata": {},
   "source": [
    "There are a few things to note from this table:    \n",
    "\n",
    "                   \n",
    "First, `Age` is of double type, although the ages listed are integers. Although the data type is not a problem for our data analysis, there is a hidden assumption that age is a discrete numerical variable, and thus should be treated as a categorical variable rather than a continuous one.                       \n",
    "To address this problem, the distance between two ages will be defined as the absolute value of the difference between the two age values.\n",
    "                 \n",
    "                \n",
    "Secondly, both of our predictors (`experience` and `Age`) are technically categorical. To be able to use these variables in a KNN regression model, these categorical data have to be converted into numerical values, with levels assigned according to increasing player experience and increasing player age.\n",
    "While this \"levelling\" step is already done for `Age` (as a larger age has a larger numerical value), it has to be done manually for `experience`. This process will be included in the data wrangling portion in the Methods section."
   ]
  },
  {
   "cell_type": "markdown",
   "id": "aa9358cf-2cc9-4e60-9c9a-65e062fe01ff",
   "metadata": {},
   "source": [
    "### Methods\n",
    "\n",
    "To answer our question of whether player age and experience can predict playing time, our analysis will involve data wrangling and cleaning, predictive modelling through KNN regression, and visualization of the obtained results.\n",
    "\n",
    "First, the `players` dataset has to be tidied:\n",
    "* `experience` should be of factor type rather than character, due to the ordered nature of experience: \"Beginner\" < \"Amateur\" < \"Regular\" < \"Pro\" < \"Veteran\"\n",
    "* `Age` is a discrete numerical variable, so it should be of integer type rather than double.         \n",
    "                \n",
    "               \n",
    "Below, the data is wrangled into a tidy format:"
   ]
  },
  {
   "cell_type": "code",
   "execution_count": null,
   "id": "d6fe727d-1d92-4748-a7df-e72ed901137e",
   "metadata": {},
   "outputs": [],
   "source": [
    "##wrangling the relevant datasets (\"players.csv\") into a tidy format:\n",
    "\n",
    "tidy_players <- players |>\n",
    "    mutate(experience = factor(experience, levels = c(\"Beginner\", \"Amateur\", \"Regular\", \"Pro\", \"Veteran\"))) |>\n",
    "    mutate(Age = as.integer(Age))\n",
    "head(tidy_players)"
   ]
  },
  {
   "cell_type": "markdown",
   "id": "ac7af4ed-249c-449a-ba94-f563f3c163b5",
   "metadata": {},
   "source": [
    "In order to narrow our data down to what we need for our research question, we need to ask what columns we would select for.            \n",
    "In this case, since we are predicting playing duration from player age and experience, we need three variables: player age (`Age`), player experience (`experience`), and play duration (`played_hours`).                     \n",
    "Below, we create a more targeted object containing only those three variables:"
   ]
  },
  {
   "cell_type": "code",
   "execution_count": null,
   "id": "95390b8b-afa2-4924-9ac6-945b42ecd247",
   "metadata": {},
   "outputs": [],
   "source": [
    "target_players <- tidy_players |>\n",
    "    select(experience, Age, played_hours) \n",
    "head(target_players)"
   ]
  },
  {
   "cell_type": "markdown",
   "id": "d9c51fc5-6122-423c-b0dc-ffd93a8e3e0e",
   "metadata": {},
   "source": [
    "##### Summarizing the data set for exploratory analysis\n",
    "\n",
    "Below is a summary of `Age` and `played_hours`, the two numerical variables involved in our data analysis:"
   ]
  },
  {
   "cell_type": "code",
   "execution_count": null,
   "id": "126e06f0-74a2-418d-9362-c7bb05f07880",
   "metadata": {},
   "outputs": [],
   "source": [
    "mean_players <- target_players |>\n",
    "    select(Age, played_hours) |>\n",
    "    map_dfr(mean, na.rm = TRUE) |>\n",
    "    as.data.frame()\n",
    "colnames(mean_players) <- c(\"Mean Age of Participants\", \"Mean Duration Played (hours)\")\n",
    "mean_players\n",
    "\n",
    "min_players <- target_players |>\n",
    "    select(Age, played_hours) |>\n",
    "    map_dfr(min, na.rm = TRUE) |>\n",
    "    as.data.frame()\n",
    "colnames(min_players) <- c(\"Minimum Age of Participants\", \"Minimum Duration Played (hours)\")\n",
    "min_players\n",
    "\n",
    "max_players <- target_players |>\n",
    "    select(Age, played_hours) |>\n",
    "    map_dfr(max, na.rm = TRUE) |>\n",
    "    as.data.frame()\n",
    "colnames(max_players) <- c(\"Maximum Age of Participants\", \"Maximum Duration Played (hours)\")\n",
    "max_players"
   ]
  },
  {
   "cell_type": "markdown",
   "id": "c90fee08-5b96-4336-8425-bc5b17d8eba9",
   "metadata": {},
   "source": [
    "The following table summarizes the above statistics:\n",
    "\n",
    "| Variable | Mean | Min | Max |\n",
    "|----------|------|-----|-----|\n",
    "| Age | 20.5206 | 8 | 50 |\n",
    "| played_hours | 5.8459 | 0 |223.1 |"
   ]
  },
  {
   "cell_type": "markdown",
   "id": "46647627-45ce-41fd-863e-96b5fae273fb",
   "metadata": {},
   "source": [
    "To understand the distribution of player experience, we count the number of players within each experience level:"
   ]
  },
  {
   "cell_type": "code",
   "execution_count": null,
   "id": "8c14fdf4-04b8-4a9a-9252-e13da8218219",
   "metadata": {},
   "outputs": [],
   "source": [
    "count <- target_players |>\n",
    "    group_by(experience) |>\n",
    "    summarize(n = n())\n",
    "count"
   ]
  },
  {
   "cell_type": "markdown",
   "id": "d64dd894-a0b0-462b-8078-dfd8539b4fc0",
   "metadata": {},
   "source": [
    "There are 35 beginners, 63 amateur, 36 regular, 14 pro, and 48 veteran players in the dataset."
   ]
  },
  {
   "cell_type": "markdown",
   "id": "1aedcfe7-ce39-4fd2-b469-d05bf751b1c8",
   "metadata": {},
   "source": [
    "##### Visualising the data set for exploratory analysis\n",
    "The above data can also be visualized through graphs to provide a more direct understanding: "
   ]
  },
  {
   "cell_type": "code",
   "execution_count": null,
   "id": "e2683eee-156d-45d3-93c9-6dc3d32f03bc",
   "metadata": {},
   "outputs": [],
   "source": [
    "##distribution of player experience -need to add figure legend and number!!\n",
    "exp_distribution <- target_players |>\n",
    "    ggplot(aes(x = experience)) +\n",
    "        geom_bar(stat = \"count\") +\n",
    "        labs(x = \"Player Experience\", y = \"Number of Players\", title = \"Distribution of Player Experience\") +\n",
    "        theme(text = element_text(size = 16))\n",
    "exp_distribution"
   ]
  }
 ],
 "metadata": {
  "kernelspec": {
   "display_name": "R",
   "language": "R",
   "name": "ir"
  },
  "language_info": {
   "codemirror_mode": "r",
   "file_extension": ".r",
   "mimetype": "text/x-r-source",
   "name": "R",
   "pygments_lexer": "r",
   "version": "4.3.3"
  }
 },
 "nbformat": 4,
 "nbformat_minor": 5
}
