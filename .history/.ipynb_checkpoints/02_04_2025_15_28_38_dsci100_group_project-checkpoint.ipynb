{
 "cells": [
  {
   "cell_type": "markdown",
   "id": "e4f3ac17-913c-4783-a994-5d80efb2a85a",
   "metadata": {},
   "source": [
    "## DSCI100 GROUP PROJECT\n",
    "\n",
    "#### Background Information:\n",
    "This project analyzes real-world data from a Minecraft research server run by UBC’s Computer Science department. The goal is to predict how long players stay in the game based on their age and experience, helping researchers target their recruitment efforts, and make sure they have enough resources. The analysis will involve data cleaning, visualization, and predictive modeling. \n",
    "\n",
    "We will help the researchers know which \"kinds\" of players are most likely to contribute a large amount of data so that we can target those players in our recruiting efforts by trying to answer the following question.\n",
    "\n",
    "#### Research Question: Can player age and player experience predict the duration of playing?"
   ]
  },
  {
   "cell_type": "code",
   "execution_count": null,
   "id": "d04b39ef-5783-4732-8836-ff65b678b50b",
   "metadata": {},
   "outputs": [],
   "source": [
    "#loading packages for data analysis and visualization \n",
    "library(tidyverse)\n",
    "library(repr)\n",
    "library(tidymodels)"
   ]
  },
  {
   "cell_type": "code",
   "execution_count": null,
   "id": "998707b3-c301-42bd-a485-e006ed2b462c",
   "metadata": {},
   "outputs": [],
   "source": [
    "#initial data loading\n",
    "players <- read_csv(\"https://raw.githubusercontent.com/jamiekyh/dsci100_project/refs/heads/main/players.csv\")\n",
    "head(players)\n",
    "\n",
    "sessions <- read_csv(\"https://raw.githubusercontent.com/jamiekyh/dsci100_project/refs/heads/main/sessions.csv\")\n",
    "head(sessions)"
   ]
  },
  {
   "cell_type": "code",
   "execution_count": null,
   "id": "b71640af-a205-4a31-b90e-029f7b539e5e",
   "metadata": {},
   "outputs": [],
   "source": [
    "Now that we have loaded the entire comma-separated values, "
   ]
  },
  {
   "cell_type": "markdown",
   "id": "8fd90f16-dddc-4f5e-9dee-c011243e4d94",
   "metadata": {},
   "source": [
    "To answer our question we will be using the dataset `players` to gain data on each players age, experience and hours played. Let's take the summary and breakdown whats in the dataset:"
   ]
  },
  {
   "cell_type": "code",
   "execution_count": null,
   "id": "c2e9ce51-f133-40ee-9d2b-28bf6a8883a1",
   "metadata": {},
   "outputs": [],
   "source": [
    "summary(players)"
   ]
  },
  {
   "cell_type": "markdown",
   "id": "c6a90d4c-a374-44e0-940e-0d78687d790a",
   "metadata": {},
   "source": [
    "**Tabulated summary of Players:**\n",
    "| Variable         | Type   | Description |number of rows|\n",
    "|-----------------|--------|-------------|--------|\n",
    "| hashedEmail       | character | Unique identifier for each player |196 |\n",
    "| gender          | character | Player's gender (e.g., Male, Female, Other) |196 |\n",
    "| Age            | dbl | Player’s age in years|196 |\n",
    "| experience      | character | Player's self-reported experience level (e.g., Beginner, Regular, Expert) |196 |\n",
    "| played_hours    | dbl | Total hours the player has spent in the game |196 |\n",
    "| name    | character | Name of player |196 |\n"
   ]
  }
 ],
 "metadata": {
  "kernelspec": {
   "display_name": "R",
   "language": "R",
   "name": "ir"
  },
  "language_info": {
   "codemirror_mode": "r",
   "file_extension": ".r",
   "mimetype": "text/x-r-source",
   "name": "R",
   "pygments_lexer": "r",
   "version": "4.3.3"
  }
 },
 "nbformat": 4,
 "nbformat_minor": 5
}
